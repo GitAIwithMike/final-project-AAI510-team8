{
 "cells": [
  {
   "cell_type": "markdown",
   "id": "59389327",
   "metadata": {},
   "source": [
    "# **Machine Learning-Based Assessment of Financial Risk in S&P 500 Companies**"
   ]
  }
 ],
 "metadata": {
  "language_info": {
   "name": "python"
  }
 },
 "nbformat": 4,
 "nbformat_minor": 5
}
